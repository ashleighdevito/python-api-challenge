{
 "cells": [
  {
   "cell_type": "markdown",
   "metadata": {},
   "source": [
    "# VacationPy\n",
    "----\n",
    "\n",
    "#### Note\n",
    "* Keep an eye on your API usage. Use https://developers.google.com/maps/reporting/gmp-reporting as reference for how to monitor your usage and billing.\n",
    "\n",
    "* Instructions have been included for each segment. You do not have to follow them exactly, but they are included to help you think through the steps."
   ]
  },
  {
   "cell_type": "code",
   "execution_count": 1,
   "metadata": {},
   "outputs": [],
   "source": [
    "#dependencies and setup\n",
    "import matplotlib.pyplot as plt\n",
    "import pandas as pd\n",
    "import numpy as np\n",
    "import requests\n",
    "import gmaps\n",
    "import os\n",
    "from config import gkey"
   ]
  },
  {
   "cell_type": "markdown",
   "metadata": {},
   "source": [
    "### Store Part I results into DataFrame\n",
    "* Load the csv exported in Part I to a DataFrame"
   ]
  },
  {
   "cell_type": "code",
   "execution_count": 2,
   "metadata": {},
   "outputs": [
    {
     "output_type": "execute_result",
     "data": {
      "text/plain": [
       "             City  Latitude  Longitude  Max Temperature  Humidity  Cloudiness  \\\n",
       "0     Alekseyevsk   57.8406   108.3492            54.72        51         100   \n",
       "1          Bethel   41.3712   -73.4140            79.48        64          40   \n",
       "2  Nuevo Progreso   23.1667   -97.9500            86.88        56          75   \n",
       "3         Camacha   33.0833   -16.3333            71.53        73          75   \n",
       "4          Atuona   -9.8000  -139.0333            79.12        78          49   \n",
       "\n",
       "   Wind Speed Country        Date  \n",
       "0        3.74      RU  1623600451  \n",
       "1        6.91      US  1623600451  \n",
       "2        6.51      MX  1623600452  \n",
       "3       16.11      PT  1623600452  \n",
       "4       18.19      PF  1623600191  "
      ],
      "text/html": "<div>\n<style scoped>\n    .dataframe tbody tr th:only-of-type {\n        vertical-align: middle;\n    }\n\n    .dataframe tbody tr th {\n        vertical-align: top;\n    }\n\n    .dataframe thead th {\n        text-align: right;\n    }\n</style>\n<table border=\"1\" class=\"dataframe\">\n  <thead>\n    <tr style=\"text-align: right;\">\n      <th></th>\n      <th>City</th>\n      <th>Latitude</th>\n      <th>Longitude</th>\n      <th>Max Temperature</th>\n      <th>Humidity</th>\n      <th>Cloudiness</th>\n      <th>Wind Speed</th>\n      <th>Country</th>\n      <th>Date</th>\n    </tr>\n  </thead>\n  <tbody>\n    <tr>\n      <th>0</th>\n      <td>Alekseyevsk</td>\n      <td>57.8406</td>\n      <td>108.3492</td>\n      <td>54.72</td>\n      <td>51</td>\n      <td>100</td>\n      <td>3.74</td>\n      <td>RU</td>\n      <td>1623600451</td>\n    </tr>\n    <tr>\n      <th>1</th>\n      <td>Bethel</td>\n      <td>41.3712</td>\n      <td>-73.4140</td>\n      <td>79.48</td>\n      <td>64</td>\n      <td>40</td>\n      <td>6.91</td>\n      <td>US</td>\n      <td>1623600451</td>\n    </tr>\n    <tr>\n      <th>2</th>\n      <td>Nuevo Progreso</td>\n      <td>23.1667</td>\n      <td>-97.9500</td>\n      <td>86.88</td>\n      <td>56</td>\n      <td>75</td>\n      <td>6.51</td>\n      <td>MX</td>\n      <td>1623600452</td>\n    </tr>\n    <tr>\n      <th>3</th>\n      <td>Camacha</td>\n      <td>33.0833</td>\n      <td>-16.3333</td>\n      <td>71.53</td>\n      <td>73</td>\n      <td>75</td>\n      <td>16.11</td>\n      <td>PT</td>\n      <td>1623600452</td>\n    </tr>\n    <tr>\n      <th>4</th>\n      <td>Atuona</td>\n      <td>-9.8000</td>\n      <td>-139.0333</td>\n      <td>79.12</td>\n      <td>78</td>\n      <td>49</td>\n      <td>18.19</td>\n      <td>PF</td>\n      <td>1623600191</td>\n    </tr>\n  </tbody>\n</table>\n</div>"
     },
     "metadata": {},
     "execution_count": 2
    }
   ],
   "source": [
    "#create dataframe of city weather from csv\n",
    "city_weather_df = pd.read_csv(\"../output/citiesweather.csv\", index_col = 0)\n",
    "\n",
    "#preview frame\n",
    "city_weather_df.head()"
   ]
  },
  {
   "cell_type": "markdown",
   "metadata": {},
   "source": [
    "### Humidity Heatmap\n",
    "* Configure gmaps.\n",
    "* Use the Lat and Lng as locations and Humidity as the weight.\n",
    "* Add Heatmap layer to map."
   ]
  },
  {
   "cell_type": "code",
   "execution_count": 3,
   "metadata": {},
   "outputs": [
    {
     "output_type": "display_data",
     "data": {
      "text/plain": "Figure(layout=FigureLayout(border='1px solid black', height='600px', margin='0 auto 0 auto', padding='1px', wi…",
      "application/vnd.jupyter.widget-view+json": {
       "version_major": 2,
       "version_minor": 0,
       "model_id": "5c151c05564846ea8112c3190c5ee636"
      }
     },
     "metadata": {}
    }
   ],
   "source": [
    "#configure gmaps\n",
    "gmaps.configure(api_key=gkey)\n",
    "\n",
    "#customize the size of the figure\n",
    "figure_layout = {\n",
    "    'width': '1000px',\n",
    "    'height': '600px',\n",
    "    'border': '1px solid black',\n",
    "    'padding': '1px',\n",
    "    'margin': '0 auto 0 auto'\n",
    "}\n",
    "fig = gmaps.figure(layout=figure_layout)\n",
    "\n",
    "#define locations of interest and level of humidity\n",
    "locations = city_weather_df[[\"Latitude\", \"Longitude\"]]\n",
    "humid = city_weather_df[\"Humidity\"]\n",
    "\n",
    "#build heatlayer\n",
    "humidity_layer = gmaps.heatmap_layer(locations, weights = humid, \n",
    "                                 dissipating = True, max_intensity = 100,\n",
    "                                 point_radius = 15)\n",
    "\n",
    "#add heatlayer layer to map\n",
    "fig.add_layer(humidity_layer)\n",
    "fig"
   ]
  },
  {
   "cell_type": "code",
   "execution_count": null,
   "metadata": {},
   "outputs": [],
   "source": []
  },
  {
   "cell_type": "markdown",
   "metadata": {},
   "source": [
    "### Create new DataFrame fitting weather criteria\n",
    "* Narrow down the cities to fit weather conditions.\n",
    "* Drop any rows will null values."
   ]
  },
  {
   "cell_type": "code",
   "execution_count": 4,
   "metadata": {},
   "outputs": [
    {
     "output_type": "execute_result",
     "data": {
      "text/plain": [
       "             City  Latitude  Longitude  Max Temperature  Humidity  Cloudiness  \\\n",
       "43         Ziarat   30.3823    67.7282            73.49         8           0   \n",
       "56        Oruzgan   32.8333    66.0000            78.58         9           0   \n",
       "93      Bataiporã  -22.2953   -53.2711            73.33        45           0   \n",
       "189      Fukuechō   32.6881   128.8419            70.77        89           0   \n",
       "253     Itirapina  -22.2528   -47.8228            70.52        44           0   \n",
       "259        Calama  -22.4667   -68.9333            70.29         4           0   \n",
       "260  Saint-Pierre  -21.3393    55.4781            73.04        79           0   \n",
       "361     Catanduva  -21.1378   -48.9728            75.49        26           0   \n",
       "409    Bela Vista  -22.1089   -56.5211            78.51        30           0   \n",
       "438  Schwetzingen   49.3781     8.5819            78.21        34           0   \n",
       "479      Vallenar  -28.5708   -70.7581            70.14        34           0   \n",
       "496        Kamina   -8.7386    24.9906            72.43        35           0   \n",
       "\n",
       "     Wind Speed Country        Date  \n",
       "43         9.78      PK  1623600463  \n",
       "56         6.69      AF  1623600532  \n",
       "93         6.82      BR  1623600607  \n",
       "189        3.47      JP  1623600766  \n",
       "253        6.85      BR  1623600849  \n",
       "259        9.22      CL  1623600851  \n",
       "260        6.91      RE  1623600851  \n",
       "361        7.54      BR  1623601010  \n",
       "409        5.70      BR  1623601155  \n",
       "438        9.22      DE  1623601163  \n",
       "479        3.40      CL  1623601240  \n",
       "496        4.56      CD  1623601310  "
      ],
      "text/html": "<div>\n<style scoped>\n    .dataframe tbody tr th:only-of-type {\n        vertical-align: middle;\n    }\n\n    .dataframe tbody tr th {\n        vertical-align: top;\n    }\n\n    .dataframe thead th {\n        text-align: right;\n    }\n</style>\n<table border=\"1\" class=\"dataframe\">\n  <thead>\n    <tr style=\"text-align: right;\">\n      <th></th>\n      <th>City</th>\n      <th>Latitude</th>\n      <th>Longitude</th>\n      <th>Max Temperature</th>\n      <th>Humidity</th>\n      <th>Cloudiness</th>\n      <th>Wind Speed</th>\n      <th>Country</th>\n      <th>Date</th>\n    </tr>\n  </thead>\n  <tbody>\n    <tr>\n      <th>43</th>\n      <td>Ziarat</td>\n      <td>30.3823</td>\n      <td>67.7282</td>\n      <td>73.49</td>\n      <td>8</td>\n      <td>0</td>\n      <td>9.78</td>\n      <td>PK</td>\n      <td>1623600463</td>\n    </tr>\n    <tr>\n      <th>56</th>\n      <td>Oruzgan</td>\n      <td>32.8333</td>\n      <td>66.0000</td>\n      <td>78.58</td>\n      <td>9</td>\n      <td>0</td>\n      <td>6.69</td>\n      <td>AF</td>\n      <td>1623600532</td>\n    </tr>\n    <tr>\n      <th>93</th>\n      <td>Bataiporã</td>\n      <td>-22.2953</td>\n      <td>-53.2711</td>\n      <td>73.33</td>\n      <td>45</td>\n      <td>0</td>\n      <td>6.82</td>\n      <td>BR</td>\n      <td>1623600607</td>\n    </tr>\n    <tr>\n      <th>189</th>\n      <td>Fukuechō</td>\n      <td>32.6881</td>\n      <td>128.8419</td>\n      <td>70.77</td>\n      <td>89</td>\n      <td>0</td>\n      <td>3.47</td>\n      <td>JP</td>\n      <td>1623600766</td>\n    </tr>\n    <tr>\n      <th>253</th>\n      <td>Itirapina</td>\n      <td>-22.2528</td>\n      <td>-47.8228</td>\n      <td>70.52</td>\n      <td>44</td>\n      <td>0</td>\n      <td>6.85</td>\n      <td>BR</td>\n      <td>1623600849</td>\n    </tr>\n    <tr>\n      <th>259</th>\n      <td>Calama</td>\n      <td>-22.4667</td>\n      <td>-68.9333</td>\n      <td>70.29</td>\n      <td>4</td>\n      <td>0</td>\n      <td>9.22</td>\n      <td>CL</td>\n      <td>1623600851</td>\n    </tr>\n    <tr>\n      <th>260</th>\n      <td>Saint-Pierre</td>\n      <td>-21.3393</td>\n      <td>55.4781</td>\n      <td>73.04</td>\n      <td>79</td>\n      <td>0</td>\n      <td>6.91</td>\n      <td>RE</td>\n      <td>1623600851</td>\n    </tr>\n    <tr>\n      <th>361</th>\n      <td>Catanduva</td>\n      <td>-21.1378</td>\n      <td>-48.9728</td>\n      <td>75.49</td>\n      <td>26</td>\n      <td>0</td>\n      <td>7.54</td>\n      <td>BR</td>\n      <td>1623601010</td>\n    </tr>\n    <tr>\n      <th>409</th>\n      <td>Bela Vista</td>\n      <td>-22.1089</td>\n      <td>-56.5211</td>\n      <td>78.51</td>\n      <td>30</td>\n      <td>0</td>\n      <td>5.70</td>\n      <td>BR</td>\n      <td>1623601155</td>\n    </tr>\n    <tr>\n      <th>438</th>\n      <td>Schwetzingen</td>\n      <td>49.3781</td>\n      <td>8.5819</td>\n      <td>78.21</td>\n      <td>34</td>\n      <td>0</td>\n      <td>9.22</td>\n      <td>DE</td>\n      <td>1623601163</td>\n    </tr>\n    <tr>\n      <th>479</th>\n      <td>Vallenar</td>\n      <td>-28.5708</td>\n      <td>-70.7581</td>\n      <td>70.14</td>\n      <td>34</td>\n      <td>0</td>\n      <td>3.40</td>\n      <td>CL</td>\n      <td>1623601240</td>\n    </tr>\n    <tr>\n      <th>496</th>\n      <td>Kamina</td>\n      <td>-8.7386</td>\n      <td>24.9906</td>\n      <td>72.43</td>\n      <td>35</td>\n      <td>0</td>\n      <td>4.56</td>\n      <td>CD</td>\n      <td>1623601310</td>\n    </tr>\n  </tbody>\n</table>\n</div>"
     },
     "metadata": {},
     "execution_count": 4
    }
   ],
   "source": [
    "#create dataframe of cities that fit weather criteria\n",
    "ideal_weather_df = city_weather_df.loc[(city_weather_df['Max Temperature'] > 70) & (city_weather_df['Max Temperature'] < 80) & (city_weather_df['Wind Speed'] < 10) & (city_weather_df['Cloudiness'] == 0),  :]\n",
    "\n",
    "#view frame\n",
    "ideal_weather_df"
   ]
  },
  {
   "cell_type": "markdown",
   "metadata": {},
   "source": [
    "### Hotel Map\n",
    "* Store into variable named `hotel_df`.\n",
    "* Add a \"Hotel Name\" column to the DataFrame.\n",
    "* Set parameters to search for hotels with 5000 meters.\n",
    "* Hit the Google Places API for each city's coordinates.\n",
    "* Store the first Hotel result into the DataFrame.\n",
    "* Plot markers on top of the heatmap."
   ]
  },
  {
   "cell_type": "code",
   "execution_count": 5,
   "metadata": {},
   "outputs": [
    {
     "output_type": "stream",
     "name": "stderr",
     "text": [
      "ipykernel_launcher:5: SettingWithCopyWarning: \n",
      "A value is trying to be set on a copy of a slice from a DataFrame.\n",
      "Try using .loc[row_indexer,col_indexer] = value instead\n",
      "\n",
      "See the caveats in the documentation: https://pandas.pydata.org/pandas-docs/stable/user_guide/indexing.html#returning-a-view-versus-a-copy\n",
      "Retrieving Results for Ziarat.\n",
      "Closest hotel to Ziarat is Grand Hotel.\n",
      "------------\n",
      "Retrieving Results for Oruzgan.\n",
      "C:\\Users\\12164\\anaconda3\\envs\\PythonData\\lib\\site-packages\\pandas\\core\\indexing.py:966: SettingWithCopyWarning: \n",
      "A value is trying to be set on a copy of a slice from a DataFrame.\n",
      "Try using .loc[row_indexer,col_indexer] = value instead\n",
      "\n",
      "See the caveats in the documentation: https://pandas.pydata.org/pandas-docs/stable/user_guide/indexing.html#returning-a-view-versus-a-copy\n",
      "  self.obj[item] = s\n",
      "Missing field/result or no hotel within range.\n",
      "------------\n",
      "Retrieving Results for Bataiporã.\n",
      "Closest hotel to Bataiporã is Hotel Vale do Ivinhema.\n",
      "------------\n",
      "Retrieving Results for Fukuechō.\n",
      "Closest hotel to Fukuechō is Hotel Sou.\n",
      "------------\n",
      "Retrieving Results for Itirapina.\n",
      "Closest hotel to Itirapina is Pousada Paraiso das Aguas.\n",
      "------------\n",
      "Retrieving Results for Calama.\n",
      "Closest hotel to Calama is Geotel Calama.\n",
      "------------\n",
      "Retrieving Results for Saint-Pierre.\n",
      "Closest hotel to Saint-Pierre is Le Battant Des Lames.\n",
      "------------\n",
      "Retrieving Results for Catanduva.\n",
      "Closest hotel to Catanduva is Paradise Inn Hotel.\n",
      "------------\n",
      "Retrieving Results for Bela Vista.\n",
      "Closest hotel to Bela Vista is Hotel Pousada da Fronteira.\n",
      "------------\n",
      "Retrieving Results for Schwetzingen.\n",
      "Closest hotel to Schwetzingen is See Hotel & Restaurant Die Ente.\n",
      "------------\n",
      "Retrieving Results for Vallenar.\n",
      "Closest hotel to Vallenar is Hotel Puerto de Vega.\n",
      "------------\n",
      "Retrieving Results for Kamina.\n",
      "Missing field/result or no hotel within range.\n",
      "------------\n"
     ]
    }
   ],
   "source": [
    "#store into new dataframe named hotel_df\n",
    "hotel_df = ideal_weather_df\n",
    "\n",
    "#create hotel name column within dataframe\n",
    "hotel_df['Hotel Name'] = ''\n",
    "\n",
    "#set parameters to search for hotels with 5000 meters.\n",
    "base_url = \"https://maps.googleapis.com/maps/api/place/nearbysearch/json\"\n",
    "params = { \n",
    "    \"radius\": 5000,\n",
    "    \"type\": \"lodging\",\n",
    "    \"keyword\": \"hotel\",\n",
    "    \"key\": gkey,\n",
    "}\n",
    "#iterate through pandas dataframe\n",
    "for index, row in hotel_df.iterrows():\n",
    "\n",
    "#define city and location\n",
    "    lat = row['Latitude']\n",
    "    lng = row['Longitude']\n",
    "    city = row['City']\n",
    "    \n",
    "#set location variable within call specifications\n",
    "    target_coordinates = f'{lat}, {lng}'\n",
    "\n",
    "#add location parameter\n",
    "    params['location'] = target_coordinates\n",
    "\n",
    "    print(f\"Retrieving Results for {city}.\")\n",
    "\n",
    "#assemble url and make API request\n",
    "    response = requests.get(base_url, params=params).json()\n",
    "    \n",
    "#extract results\n",
    "    results = response['results']\n",
    "    \n",
    "#add found hotel to dataframe\n",
    "    try:\n",
    "        print(f\"Closest hotel to {city} is {results[0]['name']}.\")\n",
    "        \n",
    "        hotel_df.loc[index, 'Hotel Name'] = results[0]['name']\n",
    "        \n",
    "#add 'none' to dataframe, if no hotel found or error\n",
    "    except (KeyError, IndexError):\n",
    "        hotel_df.loc[index, 'Hotel Name'] = \"None\"\n",
    "\n",
    "        print(\"Missing field/result or no hotel within range.\")\n",
    "        \n",
    "    print(\"------------\")"
   ]
  },
  {
   "cell_type": "code",
   "execution_count": 6,
   "metadata": {},
   "outputs": [
    {
     "output_type": "execute_result",
     "data": {
      "text/plain": [
       "             City  Latitude  Longitude  Max Temperature  Humidity  Cloudiness  \\\n",
       "43         Ziarat   30.3823    67.7282            73.49         8           0   \n",
       "93      Bataiporã  -22.2953   -53.2711            73.33        45           0   \n",
       "189      Fukuechō   32.6881   128.8419            70.77        89           0   \n",
       "253     Itirapina  -22.2528   -47.8228            70.52        44           0   \n",
       "259        Calama  -22.4667   -68.9333            70.29         4           0   \n",
       "260  Saint-Pierre  -21.3393    55.4781            73.04        79           0   \n",
       "361     Catanduva  -21.1378   -48.9728            75.49        26           0   \n",
       "409    Bela Vista  -22.1089   -56.5211            78.51        30           0   \n",
       "438  Schwetzingen   49.3781     8.5819            78.21        34           0   \n",
       "479      Vallenar  -28.5708   -70.7581            70.14        34           0   \n",
       "\n",
       "     Wind Speed Country        Date                       Hotel Name  \n",
       "43         9.78      PK  1623600463                      Grand Hotel  \n",
       "93         6.82      BR  1623600607           Hotel Vale do Ivinhema  \n",
       "189        3.47      JP  1623600766                        Hotel Sou  \n",
       "253        6.85      BR  1623600849        Pousada Paraiso das Aguas  \n",
       "259        9.22      CL  1623600851                    Geotel Calama  \n",
       "260        6.91      RE  1623600851             Le Battant Des Lames  \n",
       "361        7.54      BR  1623601010               Paradise Inn Hotel  \n",
       "409        5.70      BR  1623601155       Hotel Pousada da Fronteira  \n",
       "438        9.22      DE  1623601163  See Hotel & Restaurant Die Ente  \n",
       "479        3.40      CL  1623601240             Hotel Puerto de Vega  "
      ],
      "text/html": "<div>\n<style scoped>\n    .dataframe tbody tr th:only-of-type {\n        vertical-align: middle;\n    }\n\n    .dataframe tbody tr th {\n        vertical-align: top;\n    }\n\n    .dataframe thead th {\n        text-align: right;\n    }\n</style>\n<table border=\"1\" class=\"dataframe\">\n  <thead>\n    <tr style=\"text-align: right;\">\n      <th></th>\n      <th>City</th>\n      <th>Latitude</th>\n      <th>Longitude</th>\n      <th>Max Temperature</th>\n      <th>Humidity</th>\n      <th>Cloudiness</th>\n      <th>Wind Speed</th>\n      <th>Country</th>\n      <th>Date</th>\n      <th>Hotel Name</th>\n    </tr>\n  </thead>\n  <tbody>\n    <tr>\n      <th>43</th>\n      <td>Ziarat</td>\n      <td>30.3823</td>\n      <td>67.7282</td>\n      <td>73.49</td>\n      <td>8</td>\n      <td>0</td>\n      <td>9.78</td>\n      <td>PK</td>\n      <td>1623600463</td>\n      <td>Grand Hotel</td>\n    </tr>\n    <tr>\n      <th>93</th>\n      <td>Bataiporã</td>\n      <td>-22.2953</td>\n      <td>-53.2711</td>\n      <td>73.33</td>\n      <td>45</td>\n      <td>0</td>\n      <td>6.82</td>\n      <td>BR</td>\n      <td>1623600607</td>\n      <td>Hotel Vale do Ivinhema</td>\n    </tr>\n    <tr>\n      <th>189</th>\n      <td>Fukuechō</td>\n      <td>32.6881</td>\n      <td>128.8419</td>\n      <td>70.77</td>\n      <td>89</td>\n      <td>0</td>\n      <td>3.47</td>\n      <td>JP</td>\n      <td>1623600766</td>\n      <td>Hotel Sou</td>\n    </tr>\n    <tr>\n      <th>253</th>\n      <td>Itirapina</td>\n      <td>-22.2528</td>\n      <td>-47.8228</td>\n      <td>70.52</td>\n      <td>44</td>\n      <td>0</td>\n      <td>6.85</td>\n      <td>BR</td>\n      <td>1623600849</td>\n      <td>Pousada Paraiso das Aguas</td>\n    </tr>\n    <tr>\n      <th>259</th>\n      <td>Calama</td>\n      <td>-22.4667</td>\n      <td>-68.9333</td>\n      <td>70.29</td>\n      <td>4</td>\n      <td>0</td>\n      <td>9.22</td>\n      <td>CL</td>\n      <td>1623600851</td>\n      <td>Geotel Calama</td>\n    </tr>\n    <tr>\n      <th>260</th>\n      <td>Saint-Pierre</td>\n      <td>-21.3393</td>\n      <td>55.4781</td>\n      <td>73.04</td>\n      <td>79</td>\n      <td>0</td>\n      <td>6.91</td>\n      <td>RE</td>\n      <td>1623600851</td>\n      <td>Le Battant Des Lames</td>\n    </tr>\n    <tr>\n      <th>361</th>\n      <td>Catanduva</td>\n      <td>-21.1378</td>\n      <td>-48.9728</td>\n      <td>75.49</td>\n      <td>26</td>\n      <td>0</td>\n      <td>7.54</td>\n      <td>BR</td>\n      <td>1623601010</td>\n      <td>Paradise Inn Hotel</td>\n    </tr>\n    <tr>\n      <th>409</th>\n      <td>Bela Vista</td>\n      <td>-22.1089</td>\n      <td>-56.5211</td>\n      <td>78.51</td>\n      <td>30</td>\n      <td>0</td>\n      <td>5.70</td>\n      <td>BR</td>\n      <td>1623601155</td>\n      <td>Hotel Pousada da Fronteira</td>\n    </tr>\n    <tr>\n      <th>438</th>\n      <td>Schwetzingen</td>\n      <td>49.3781</td>\n      <td>8.5819</td>\n      <td>78.21</td>\n      <td>34</td>\n      <td>0</td>\n      <td>9.22</td>\n      <td>DE</td>\n      <td>1623601163</td>\n      <td>See Hotel &amp; Restaurant Die Ente</td>\n    </tr>\n    <tr>\n      <th>479</th>\n      <td>Vallenar</td>\n      <td>-28.5708</td>\n      <td>-70.7581</td>\n      <td>70.14</td>\n      <td>34</td>\n      <td>0</td>\n      <td>3.40</td>\n      <td>CL</td>\n      <td>1623601240</td>\n      <td>Hotel Puerto de Vega</td>\n    </tr>\n  </tbody>\n</table>\n</div>"
     },
     "metadata": {},
     "execution_count": 6
    }
   ],
   "source": [
    "#create new dataframe of only cities with hotels withing 5000m of coordinates\n",
    "hotel_clean_df = hotel_df.loc[hotel_df['Hotel Name'] != 'None', :]\n",
    "hotel_clean_df"
   ]
  },
  {
   "cell_type": "code",
   "execution_count": 7,
   "metadata": {},
   "outputs": [],
   "source": [
    "# NOTE: Do not change any of the code in this cell\n",
    "\n",
    "# Using the template add the hotel marks to the heatmap\n",
    "info_box_template = \"\"\"\n",
    "<dl>\n",
    "<dt>Name</dt><dd>{Hotel Name}</dd>\n",
    "<dt>City</dt><dd>{City}</dd>\n",
    "<dt>Country</dt><dd>{Country}</dd>\n",
    "</dl>\n",
    "\"\"\"\n",
    "# Store the DataFrame Row\n",
    "# NOTE: be sure to update with your DataFrame name\n",
    "hotel_clean_info = [info_box_template.format(**row) for index, row in hotel_clean_df.iterrows()]\n",
    "locations = hotel_clean_df[[\"Latitude\", \"Longitude\"]]"
   ]
  },
  {
   "cell_type": "code",
   "execution_count": 8,
   "metadata": {},
   "outputs": [
    {
     "output_type": "display_data",
     "data": {
      "text/plain": "Figure(layout=FigureLayout(border='1px solid black', height='600px', margin='0 auto 0 auto', padding='1px', wi…",
      "application/vnd.jupyter.widget-view+json": {
       "version_major": 2,
       "version_minor": 0,
       "model_id": "5c151c05564846ea8112c3190c5ee636"
      }
     },
     "metadata": {}
    }
   ],
   "source": [
    "#build marker layer\n",
    "markers = gmaps.marker_layer(locations, info_box_content= hotel_clean_info)\n",
    "\n",
    "#add layer to figure with heatmap\n",
    "fig.add_layer(markers)\n",
    "\n",
    "#display\n",
    "fig"
   ]
  },
  {
   "cell_type": "code",
   "execution_count": null,
   "metadata": {},
   "outputs": [],
   "source": []
  }
 ],
 "metadata": {
  "kernelspec": {
   "name": "python3",
   "display_name": "Python 3.6.10 64-bit ('PythonData': conda)"
  },
  "language_info": {
   "codemirror_mode": {
    "name": "ipython",
    "version": 3
   },
   "file_extension": ".py",
   "mimetype": "text/x-python",
   "name": "python",
   "nbconvert_exporter": "python",
   "pygments_lexer": "ipython3",
   "version": "3.6.10"
  },
  "latex_envs": {
   "LaTeX_envs_menu_present": true,
   "autoclose": false,
   "autocomplete": true,
   "bibliofile": "biblio.bib",
   "cite_by": "apalike",
   "current_citInitial": 1,
   "eqLabelWithNumbers": true,
   "eqNumInitial": 1,
   "hotkeys": {
    "equation": "Ctrl-E",
    "itemize": "Ctrl-I"
   },
   "labels_anchors": false,
   "latex_user_defs": false,
   "report_style_numbering": false,
   "user_envs_cfg": false
  },
  "interpreter": {
   "hash": "ed99c328fe6228cde88a5ea9dac3573c8a80070b6f57470153ed5be436ecc5ea"
  }
 },
 "nbformat": 4,
 "nbformat_minor": 4
}