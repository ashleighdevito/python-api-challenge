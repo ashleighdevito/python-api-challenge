{
 "cells": [
  {
   "cell_type": "markdown",
   "metadata": {},
   "source": [
    "# VacationPy\n",
    "----\n",
    "\n",
    "#### Note\n",
    "* Keep an eye on your API usage. Use https://developers.google.com/maps/reporting/gmp-reporting as reference for how to monitor your usage and billing.\n",
    "\n",
    "* Instructions have been included for each segment. You do not have to follow them exactly, but they are included to help you think through the steps."
   ]
  },
  {
   "cell_type": "code",
   "execution_count": 1,
   "metadata": {},
   "outputs": [],
   "source": [
    "#dependencies and setup\n",
    "import matplotlib.pyplot as plt\n",
    "import pandas as pd\n",
    "import numpy as np\n",
    "import requests\n",
    "import gmaps\n",
    "import os\n",
    "from config import gkey"
   ]
  },
  {
   "cell_type": "markdown",
   "metadata": {},
   "source": [
    "### Store Part I results into DataFrame\n",
    "* Load the csv exported in Part I to a DataFrame"
   ]
  },
  {
   "cell_type": "code",
   "execution_count": 2,
   "metadata": {},
   "outputs": [
    {
     "output_type": "execute_result",
     "data": {
      "text/plain": [
       "              City  Latitude  Longitude  Max Temperature  Humidity  \\\n",
       "0  Charters Towers  -20.1000   146.2667            76.05        69   \n",
       "1          Ushuaia  -54.8000   -68.3000            38.86        87   \n",
       "2           Kikwit   -5.0410    18.8162            69.26        47   \n",
       "3         Rossosh'   51.1209    38.5116            57.29        96   \n",
       "4       Butaritari    3.0707   172.7902            82.47        73   \n",
       "\n",
       "   Cloudiness  Wind Speed Country        Date  \n",
       "0         100        7.20      AU  1623549336  \n",
       "1          75       26.46      AR  1623549096  \n",
       "2          16        3.29      CD  1623549337  \n",
       "3          81        5.97      RU  1623549337  \n",
       "4          23        6.55      KI  1623549337  "
      ],
      "text/html": "<div>\n<style scoped>\n    .dataframe tbody tr th:only-of-type {\n        vertical-align: middle;\n    }\n\n    .dataframe tbody tr th {\n        vertical-align: top;\n    }\n\n    .dataframe thead th {\n        text-align: right;\n    }\n</style>\n<table border=\"1\" class=\"dataframe\">\n  <thead>\n    <tr style=\"text-align: right;\">\n      <th></th>\n      <th>City</th>\n      <th>Latitude</th>\n      <th>Longitude</th>\n      <th>Max Temperature</th>\n      <th>Humidity</th>\n      <th>Cloudiness</th>\n      <th>Wind Speed</th>\n      <th>Country</th>\n      <th>Date</th>\n    </tr>\n  </thead>\n  <tbody>\n    <tr>\n      <th>0</th>\n      <td>Charters Towers</td>\n      <td>-20.1000</td>\n      <td>146.2667</td>\n      <td>76.05</td>\n      <td>69</td>\n      <td>100</td>\n      <td>7.20</td>\n      <td>AU</td>\n      <td>1623549336</td>\n    </tr>\n    <tr>\n      <th>1</th>\n      <td>Ushuaia</td>\n      <td>-54.8000</td>\n      <td>-68.3000</td>\n      <td>38.86</td>\n      <td>87</td>\n      <td>75</td>\n      <td>26.46</td>\n      <td>AR</td>\n      <td>1623549096</td>\n    </tr>\n    <tr>\n      <th>2</th>\n      <td>Kikwit</td>\n      <td>-5.0410</td>\n      <td>18.8162</td>\n      <td>69.26</td>\n      <td>47</td>\n      <td>16</td>\n      <td>3.29</td>\n      <td>CD</td>\n      <td>1623549337</td>\n    </tr>\n    <tr>\n      <th>3</th>\n      <td>Rossosh'</td>\n      <td>51.1209</td>\n      <td>38.5116</td>\n      <td>57.29</td>\n      <td>96</td>\n      <td>81</td>\n      <td>5.97</td>\n      <td>RU</td>\n      <td>1623549337</td>\n    </tr>\n    <tr>\n      <th>4</th>\n      <td>Butaritari</td>\n      <td>3.0707</td>\n      <td>172.7902</td>\n      <td>82.47</td>\n      <td>73</td>\n      <td>23</td>\n      <td>6.55</td>\n      <td>KI</td>\n      <td>1623549337</td>\n    </tr>\n  </tbody>\n</table>\n</div>"
     },
     "metadata": {},
     "execution_count": 2
    }
   ],
   "source": [
    "#create dataframe of city weather from csv\n",
    "city_weather_df = pd.read_csv(\"../output/citiesweather.csv\", index_col = 0)\n",
    "\n",
    "#preview frame\n",
    "city_weather_df.head()"
   ]
  },
  {
   "cell_type": "markdown",
   "metadata": {},
   "source": [
    "### Humidity Heatmap\n",
    "* Configure gmaps.\n",
    "* Use the Lat and Lng as locations and Humidity as the weight.\n",
    "* Add Heatmap layer to map."
   ]
  },
  {
   "cell_type": "code",
   "execution_count": 3,
   "metadata": {},
   "outputs": [
    {
     "output_type": "display_data",
     "data": {
      "text/plain": "Figure(layout=FigureLayout(border='1px solid black', height='600px', margin='0 auto 0 auto', padding='1px', wi…",
      "application/vnd.jupyter.widget-view+json": {
       "version_major": 2,
       "version_minor": 0,
       "model_id": "517a4b113d77464bb16b49d891ed1d51"
      }
     },
     "metadata": {}
    }
   ],
   "source": [
    "#configure gmaps\n",
    "gmaps.configure(api_key=gkey)\n",
    "\n",
    "#customize the size of the figure\n",
    "figure_layout = {\n",
    "    'width': '1000px',\n",
    "    'height': '600px',\n",
    "    'border': '1px solid black',\n",
    "    'padding': '1px',\n",
    "    'margin': '0 auto 0 auto'\n",
    "}\n",
    "fig = gmaps.figure(layout=figure_layout)\n",
    "\n",
    "#define locations of interest and level of humidity\n",
    "locations = city_weather_df[[\"Latitude\", \"Longitude\"]]\n",
    "humid = city_weather_df[\"Humidity\"]\n",
    "\n",
    "#build heatlayer\n",
    "humidity_layer = gmaps.heatmap_layer(locations, weights = humid, \n",
    "                                 dissipating = True, max_intensity = 100,\n",
    "                                 point_radius = 15)\n",
    "\n",
    "#add heatlayer layer to map\n",
    "fig.add_layer(humidity_layer)\n",
    "fig"
   ]
  },
  {
   "cell_type": "code",
   "execution_count": null,
   "metadata": {},
   "outputs": [],
   "source": []
  },
  {
   "cell_type": "markdown",
   "metadata": {},
   "source": [
    "### Create new DataFrame fitting weather criteria\n",
    "* Narrow down the cities to fit weather conditions.\n",
    "* Drop any rows will null values."
   ]
  },
  {
   "cell_type": "code",
   "execution_count": 4,
   "metadata": {},
   "outputs": [
    {
     "output_type": "execute_result",
     "data": {
      "text/plain": [
       "               City  Latitude  Longitude  Max Temperature  Humidity  \\\n",
       "31           Cortez   37.3489  -108.5859            78.19        11   \n",
       "211         Mashhad   36.2970    59.6062            75.34        43   \n",
       "333    Saint-Pierre  -21.3393    55.4781            71.24        73   \n",
       "451          Murgab   37.4966    61.9714            75.07        43   \n",
       "473          Qūchān   37.1060    58.5095            70.88        44   \n",
       "480  Zabul Province   32.2500    67.2500            72.63        18   \n",
       "508        San Juan  -31.5375   -68.5364            74.73        46   \n",
       "\n",
       "     Cloudiness  Wind Speed Country        Date  \n",
       "31            0        6.06      US  1623549345  \n",
       "211           0        4.61      IR  1623549656  \n",
       "333           0        6.91      RE  1623549885  \n",
       "451           0        2.30      TM  1623550050  \n",
       "473           0        2.73      IR  1623550121  \n",
       "480           0        6.93      AF  1623550123  \n",
       "508           0        2.44      AR  1623550101  "
      ],
      "text/html": "<div>\n<style scoped>\n    .dataframe tbody tr th:only-of-type {\n        vertical-align: middle;\n    }\n\n    .dataframe tbody tr th {\n        vertical-align: top;\n    }\n\n    .dataframe thead th {\n        text-align: right;\n    }\n</style>\n<table border=\"1\" class=\"dataframe\">\n  <thead>\n    <tr style=\"text-align: right;\">\n      <th></th>\n      <th>City</th>\n      <th>Latitude</th>\n      <th>Longitude</th>\n      <th>Max Temperature</th>\n      <th>Humidity</th>\n      <th>Cloudiness</th>\n      <th>Wind Speed</th>\n      <th>Country</th>\n      <th>Date</th>\n    </tr>\n  </thead>\n  <tbody>\n    <tr>\n      <th>31</th>\n      <td>Cortez</td>\n      <td>37.3489</td>\n      <td>-108.5859</td>\n      <td>78.19</td>\n      <td>11</td>\n      <td>0</td>\n      <td>6.06</td>\n      <td>US</td>\n      <td>1623549345</td>\n    </tr>\n    <tr>\n      <th>211</th>\n      <td>Mashhad</td>\n      <td>36.2970</td>\n      <td>59.6062</td>\n      <td>75.34</td>\n      <td>43</td>\n      <td>0</td>\n      <td>4.61</td>\n      <td>IR</td>\n      <td>1623549656</td>\n    </tr>\n    <tr>\n      <th>333</th>\n      <td>Saint-Pierre</td>\n      <td>-21.3393</td>\n      <td>55.4781</td>\n      <td>71.24</td>\n      <td>73</td>\n      <td>0</td>\n      <td>6.91</td>\n      <td>RE</td>\n      <td>1623549885</td>\n    </tr>\n    <tr>\n      <th>451</th>\n      <td>Murgab</td>\n      <td>37.4966</td>\n      <td>61.9714</td>\n      <td>75.07</td>\n      <td>43</td>\n      <td>0</td>\n      <td>2.30</td>\n      <td>TM</td>\n      <td>1623550050</td>\n    </tr>\n    <tr>\n      <th>473</th>\n      <td>Qūchān</td>\n      <td>37.1060</td>\n      <td>58.5095</td>\n      <td>70.88</td>\n      <td>44</td>\n      <td>0</td>\n      <td>2.73</td>\n      <td>IR</td>\n      <td>1623550121</td>\n    </tr>\n    <tr>\n      <th>480</th>\n      <td>Zabul Province</td>\n      <td>32.2500</td>\n      <td>67.2500</td>\n      <td>72.63</td>\n      <td>18</td>\n      <td>0</td>\n      <td>6.93</td>\n      <td>AF</td>\n      <td>1623550123</td>\n    </tr>\n    <tr>\n      <th>508</th>\n      <td>San Juan</td>\n      <td>-31.5375</td>\n      <td>-68.5364</td>\n      <td>74.73</td>\n      <td>46</td>\n      <td>0</td>\n      <td>2.44</td>\n      <td>AR</td>\n      <td>1623550101</td>\n    </tr>\n  </tbody>\n</table>\n</div>"
     },
     "metadata": {},
     "execution_count": 4
    }
   ],
   "source": [
    "#create dataframe of cities that fit weather criteria\n",
    "ideal_weather_df = city_weather_df.loc[(city_weather_df['Max Temperature'] > 70) & (city_weather_df['Max Temperature'] < 80) & (city_weather_df['Wind Speed'] < 10) & (city_weather_df['Cloudiness'] == 0),  :]\n",
    "\n",
    "#view frame\n",
    "ideal_weather_df"
   ]
  },
  {
   "cell_type": "markdown",
   "metadata": {},
   "source": [
    "### Hotel Map\n",
    "* Store into variable named `hotel_df`.\n",
    "* Add a \"Hotel Name\" column to the DataFrame.\n",
    "* Set parameters to search for hotels with 5000 meters.\n",
    "* Hit the Google Places API for each city's coordinates.\n",
    "* Store the first Hotel result into the DataFrame.\n",
    "* Plot markers on top of the heatmap."
   ]
  },
  {
   "cell_type": "code",
   "execution_count": 5,
   "metadata": {},
   "outputs": [
    {
     "output_type": "stream",
     "name": "stderr",
     "text": [
      "ipykernel_launcher:5: SettingWithCopyWarning: \n",
      "A value is trying to be set on a copy of a slice from a DataFrame.\n",
      "Try using .loc[row_indexer,col_indexer] = value instead\n",
      "\n",
      "See the caveats in the documentation: https://pandas.pydata.org/pandas-docs/stable/user_guide/indexing.html#returning-a-view-versus-a-copy\n",
      "Retrieving Results for Cortez.\n",
      "Closest hotel to Cortez is Sand Canyon National 9 Inn.\n",
      "------------\n",
      "Retrieving Results for Mashhad.\n",
      "C:\\Users\\12164\\anaconda3\\envs\\PythonData\\lib\\site-packages\\pandas\\core\\indexing.py:966: SettingWithCopyWarning: \n",
      "A value is trying to be set on a copy of a slice from a DataFrame.\n",
      "Try using .loc[row_indexer,col_indexer] = value instead\n",
      "\n",
      "See the caveats in the documentation: https://pandas.pydata.org/pandas-docs/stable/user_guide/indexing.html#returning-a-view-versus-a-copy\n",
      "  self.obj[item] = s\n",
      "Closest hotel to Mashhad is Khanye Sabz Hotel.\n",
      "------------\n",
      "Retrieving Results for Saint-Pierre.\n",
      "Closest hotel to Saint-Pierre is Lindsey Hôtel.\n",
      "------------\n",
      "Retrieving Results for Murgab.\n",
      "Missing field/result or no hotel within range.\n",
      "------------\n",
      "Retrieving Results for Qūchān.\n",
      "Closest hotel to Qūchān is گلیم دستبافت کیمیایی.\n",
      "------------\n",
      "Retrieving Results for Zabul Province.\n",
      "Missing field/result or no hotel within range.\n",
      "------------\n",
      "Retrieving Results for San Juan.\n",
      "Closest hotel to San Juan is Hotel Provincial.\n",
      "------------\n"
     ]
    }
   ],
   "source": [
    "#store into new dataframe named hotel_df\n",
    "hotel_df = ideal_weather_df\n",
    "\n",
    "#create hotel name column within dataframe\n",
    "hotel_df['Hotel Name'] = ''\n",
    "\n",
    "#set parameters to search for hotels with 5000 meters.\n",
    "base_url = \"https://maps.googleapis.com/maps/api/place/nearbysearch/json\"\n",
    "params = { \n",
    "    \"radius\": 5000,\n",
    "    \"type\": \"lodging\",\n",
    "    \"key\": gkey,\n",
    "}\n",
    "#iterate through pandas dataframe\n",
    "for index, row in hotel_df.iterrows():\n",
    "\n",
    "#define city and location\n",
    "    lat = row['Latitude']\n",
    "    lng = row['Longitude']\n",
    "    city = row['City']\n",
    "    \n",
    "#set location variable within call specifications\n",
    "    target_coordinates = f'{lat}, {lng}'\n",
    "\n",
    "#add location parameter\n",
    "    params['location'] = target_coordinates\n",
    "\n",
    "    print(f\"Retrieving Results for {city}.\")\n",
    "\n",
    "#assemble url and make API request\n",
    "    response = requests.get(base_url, params=params).json()\n",
    "    \n",
    "#extract results\n",
    "    results = response['results']\n",
    "    \n",
    "#add found hotel to dataframe\n",
    "    try:\n",
    "        print(f\"Closest hotel to {city} is {results[0]['name']}.\")\n",
    "        \n",
    "        hotel_df.loc[index, 'Hotel Name'] = results[0]['name']\n",
    "        \n",
    "#add 'none' to dataframe, if no hotel found or error\n",
    "    except (KeyError, IndexError):\n",
    "        hotel_df.loc[index, 'Hotel Name'] = \"None\"\n",
    "\n",
    "        print(\"Missing field/result or no hotel within range.\")\n",
    "        \n",
    "    print(\"------------\")"
   ]
  },
  {
   "cell_type": "code",
   "execution_count": 6,
   "metadata": {},
   "outputs": [
    {
     "output_type": "execute_result",
     "data": {
      "text/plain": [
       "             City  Latitude  Longitude  Max Temperature  Humidity  Cloudiness  \\\n",
       "31         Cortez   37.3489  -108.5859            78.19        11           0   \n",
       "211       Mashhad   36.2970    59.6062            75.34        43           0   \n",
       "333  Saint-Pierre  -21.3393    55.4781            71.24        73           0   \n",
       "473        Qūchān   37.1060    58.5095            70.88        44           0   \n",
       "508      San Juan  -31.5375   -68.5364            74.73        46           0   \n",
       "\n",
       "     Wind Speed Country        Date                  Hotel Name  \n",
       "31         6.06      US  1623549345  Sand Canyon National 9 Inn  \n",
       "211        4.61      IR  1623549656           Khanye Sabz Hotel  \n",
       "333        6.91      RE  1623549885               Lindsey Hôtel  \n",
       "473        2.73      IR  1623550121        گلیم دستبافت کیمیایی  \n",
       "508        2.44      AR  1623550101            Hotel Provincial  "
      ],
      "text/html": "<div>\n<style scoped>\n    .dataframe tbody tr th:only-of-type {\n        vertical-align: middle;\n    }\n\n    .dataframe tbody tr th {\n        vertical-align: top;\n    }\n\n    .dataframe thead th {\n        text-align: right;\n    }\n</style>\n<table border=\"1\" class=\"dataframe\">\n  <thead>\n    <tr style=\"text-align: right;\">\n      <th></th>\n      <th>City</th>\n      <th>Latitude</th>\n      <th>Longitude</th>\n      <th>Max Temperature</th>\n      <th>Humidity</th>\n      <th>Cloudiness</th>\n      <th>Wind Speed</th>\n      <th>Country</th>\n      <th>Date</th>\n      <th>Hotel Name</th>\n    </tr>\n  </thead>\n  <tbody>\n    <tr>\n      <th>31</th>\n      <td>Cortez</td>\n      <td>37.3489</td>\n      <td>-108.5859</td>\n      <td>78.19</td>\n      <td>11</td>\n      <td>0</td>\n      <td>6.06</td>\n      <td>US</td>\n      <td>1623549345</td>\n      <td>Sand Canyon National 9 Inn</td>\n    </tr>\n    <tr>\n      <th>211</th>\n      <td>Mashhad</td>\n      <td>36.2970</td>\n      <td>59.6062</td>\n      <td>75.34</td>\n      <td>43</td>\n      <td>0</td>\n      <td>4.61</td>\n      <td>IR</td>\n      <td>1623549656</td>\n      <td>Khanye Sabz Hotel</td>\n    </tr>\n    <tr>\n      <th>333</th>\n      <td>Saint-Pierre</td>\n      <td>-21.3393</td>\n      <td>55.4781</td>\n      <td>71.24</td>\n      <td>73</td>\n      <td>0</td>\n      <td>6.91</td>\n      <td>RE</td>\n      <td>1623549885</td>\n      <td>Lindsey Hôtel</td>\n    </tr>\n    <tr>\n      <th>473</th>\n      <td>Qūchān</td>\n      <td>37.1060</td>\n      <td>58.5095</td>\n      <td>70.88</td>\n      <td>44</td>\n      <td>0</td>\n      <td>2.73</td>\n      <td>IR</td>\n      <td>1623550121</td>\n      <td>گلیم دستبافت کیمیایی</td>\n    </tr>\n    <tr>\n      <th>508</th>\n      <td>San Juan</td>\n      <td>-31.5375</td>\n      <td>-68.5364</td>\n      <td>74.73</td>\n      <td>46</td>\n      <td>0</td>\n      <td>2.44</td>\n      <td>AR</td>\n      <td>1623550101</td>\n      <td>Hotel Provincial</td>\n    </tr>\n  </tbody>\n</table>\n</div>"
     },
     "metadata": {},
     "execution_count": 6
    }
   ],
   "source": [
    "#create new dataframe of only cities with hotels withing 5000m of coordinates\n",
    "hotel_clean_df = hotel_df.loc[hotel_df['Hotel Name'] != 'None', :]\n",
    "hotel_clean_df"
   ]
  },
  {
   "cell_type": "code",
   "execution_count": 7,
   "metadata": {},
   "outputs": [],
   "source": [
    "# NOTE: Do not change any of the code in this cell\n",
    "\n",
    "# Using the template add the hotel marks to the heatmap\n",
    "info_box_template = \"\"\"\n",
    "<dl>\n",
    "<dt>Name</dt><dd>{Hotel Name}</dd>\n",
    "<dt>City</dt><dd>{City}</dd>\n",
    "<dt>Country</dt><dd>{Country}</dd>\n",
    "</dl>\n",
    "\"\"\"\n",
    "# Store the DataFrame Row\n",
    "# NOTE: be sure to update with your DataFrame name\n",
    "hotel_clean_info = [info_box_template.format(**row) for index, row in hotel_clean_df.iterrows()]\n",
    "locations = hotel_clean_df[[\"Latitude\", \"Longitude\"]]"
   ]
  },
  {
   "cell_type": "code",
   "execution_count": 8,
   "metadata": {},
   "outputs": [
    {
     "output_type": "display_data",
     "data": {
      "text/plain": "Figure(layout=FigureLayout(border='1px solid black', height='600px', margin='0 auto 0 auto', padding='1px', wi…",
      "application/vnd.jupyter.widget-view+json": {
       "version_major": 2,
       "version_minor": 0,
       "model_id": "517a4b113d77464bb16b49d891ed1d51"
      }
     },
     "metadata": {}
    }
   ],
   "source": [
    "#build marker layer\n",
    "markers = gmaps.marker_layer(locations, info_box_content= hotel_clean_info)\n",
    "\n",
    "#add layer to figure with heatmap\n",
    "fig.add_layer(markers)\n",
    "\n",
    "#display\n",
    "fig"
   ]
  },
  {
   "cell_type": "code",
   "execution_count": null,
   "metadata": {},
   "outputs": [],
   "source": []
  }
 ],
 "metadata": {
  "kernelspec": {
   "name": "python3",
   "display_name": "Python 3.6.10 64-bit ('PythonData': conda)"
  },
  "language_info": {
   "codemirror_mode": {
    "name": "ipython",
    "version": 3
   },
   "file_extension": ".py",
   "mimetype": "text/x-python",
   "name": "python",
   "nbconvert_exporter": "python",
   "pygments_lexer": "ipython3",
   "version": "3.6.10"
  },
  "latex_envs": {
   "LaTeX_envs_menu_present": true,
   "autoclose": false,
   "autocomplete": true,
   "bibliofile": "biblio.bib",
   "cite_by": "apalike",
   "current_citInitial": 1,
   "eqLabelWithNumbers": true,
   "eqNumInitial": 1,
   "hotkeys": {
    "equation": "Ctrl-E",
    "itemize": "Ctrl-I"
   },
   "labels_anchors": false,
   "latex_user_defs": false,
   "report_style_numbering": false,
   "user_envs_cfg": false
  },
  "interpreter": {
   "hash": "ed99c328fe6228cde88a5ea9dac3573c8a80070b6f57470153ed5be436ecc5ea"
  }
 },
 "nbformat": 4,
 "nbformat_minor": 4
}