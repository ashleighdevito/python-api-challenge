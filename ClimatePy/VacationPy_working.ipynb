{
 "cells": [
  {
   "cell_type": "markdown",
   "metadata": {},
   "source": [
    "# VacationPy\n",
    "----\n",
    "\n",
    "#### Note\n",
    "* Keep an eye on your API usage. Use https://developers.google.com/maps/reporting/gmp-reporting as reference for how to monitor your usage and billing.\n",
    "\n",
    "* Instructions have been included for each segment. You do not have to follow them exactly, but they are included to help you think through the steps."
   ]
  },
  {
   "cell_type": "code",
   "execution_count": 2,
   "metadata": {},
   "outputs": [],
   "source": [
    "# Dependencies and Setup\n",
    "import matplotlib.pyplot as plt\n",
    "import pandas as pd\n",
    "import numpy as np\n",
    "import requests\n",
    "import gmaps\n",
    "import os\n",
    "\n",
    "# Import API key\n",
    "from config import gkey"
   ]
  },
  {
   "cell_type": "markdown",
   "metadata": {},
   "source": [
    "### Store Part I results into DataFrame\n",
    "* Load the csv exported in Part I to a DataFrame"
   ]
  },
  {
   "cell_type": "code",
   "execution_count": 11,
   "metadata": {},
   "outputs": [
    {
     "output_type": "execute_result",
     "data": {
      "text/plain": [
       "City                object\n",
       "Latitude           float64\n",
       "Longitude          float64\n",
       "Max Temperature    float64\n",
       "Humidity             int64\n",
       "Cloudiness           int64\n",
       "Wind Speed         float64\n",
       "Country             object\n",
       "Date                 int64\n",
       "dtype: object"
      ]
     },
     "metadata": {},
     "execution_count": 11
    }
   ],
   "source": [
    "\n",
    "city_weather_df = pd.read_csv(\"../output/citiesweather.csv\", index_col = 0)\n",
    "city_weather_df.dtypes"
   ]
  },
  {
   "cell_type": "markdown",
   "metadata": {},
   "source": [
    "### Humidity Heatmap\n",
    "* Configure gmaps.\n",
    "* Use the Lat and Lng as locations and Humidity as the weight.\n",
    "* Add Heatmap layer to map."
   ]
  },
  {
   "cell_type": "code",
   "execution_count": 26,
   "metadata": {},
   "outputs": [
    {
     "output_type": "display_data",
     "data": {
      "text/plain": "Figure(layout=FigureLayout(border='1px solid black', height='600px', margin='0 auto 0 auto', padding='1px', wi…",
      "application/vnd.jupyter.widget-view+json": {
       "version_major": 2,
       "version_minor": 0,
       "model_id": "70a8a002342440e9807d3ca27c7ee369"
      }
     },
     "metadata": {}
    }
   ],
   "source": [
    "#Configure gmaps.\n",
    "gmaps.configure(api_key=gkey)\n",
    "\n",
    "# Customize the size of the figure\n",
    "figure_layout = {\n",
    "    'width': '1000px',\n",
    "    'height': '600px',\n",
    "    'border': '1px solid black',\n",
    "    'padding': '1px',\n",
    "    'margin': '0 auto 0 auto'\n",
    "}\n",
    "fig = gmaps.figure(layout=figure_layout)\n",
    "\n",
    "#Use the Lat and Lng as locations and Humidity as the weight.\n",
    "locations = city_weather_df[[\"Latitude\", \"Longitude\"]]\n",
    "humid = city_weather_df[\"Humidity\"]\n",
    "\n",
    "#build heatlayer\n",
    "humidity_layer = gmaps.heatmap_layer(locations, weights = humid, \n",
    "                                 dissipating = True, max_intensity = 100,\n",
    "                                 point_radius = 15)\n",
    "\n",
    "#Add Heatmap layer to map\n",
    "fig.add_layer(humidity_layer)\n",
    "fig"
   ]
  },
  {
   "cell_type": "code",
   "execution_count": null,
   "metadata": {},
   "outputs": [],
   "source": []
  },
  {
   "cell_type": "markdown",
   "metadata": {},
   "source": [
    "### Create new DataFrame fitting weather criteria\n",
    "* Narrow down the cities to fit weather conditions.\n",
    "* Drop any rows will null values."
   ]
  },
  {
   "cell_type": "code",
   "execution_count": 31,
   "metadata": {},
   "outputs": [
    {
     "output_type": "execute_result",
     "data": {
      "text/plain": [
       "               City  Latitude  Longitude  Max Temperature  Humidity  \\\n",
       "31           Cortez   37.3489  -108.5859            78.19        11   \n",
       "211         Mashhad   36.2970    59.6062            75.34        43   \n",
       "333    Saint-Pierre  -21.3393    55.4781            71.24        73   \n",
       "451          Murgab   37.4966    61.9714            75.07        43   \n",
       "473          Qūchān   37.1060    58.5095            70.88        44   \n",
       "480  Zabul Province   32.2500    67.2500            72.63        18   \n",
       "508        San Juan  -31.5375   -68.5364            74.73        46   \n",
       "\n",
       "     Cloudiness  Wind Speed Country        Date  \n",
       "31            0        6.06      US  1623549345  \n",
       "211           0        4.61      IR  1623549656  \n",
       "333           0        6.91      RE  1623549885  \n",
       "451           0        2.30      TM  1623550050  \n",
       "473           0        2.73      IR  1623550121  \n",
       "480           0        6.93      AF  1623550123  \n",
       "508           0        2.44      AR  1623550101  "
      ],
      "text/html": "<div>\n<style scoped>\n    .dataframe tbody tr th:only-of-type {\n        vertical-align: middle;\n    }\n\n    .dataframe tbody tr th {\n        vertical-align: top;\n    }\n\n    .dataframe thead th {\n        text-align: right;\n    }\n</style>\n<table border=\"1\" class=\"dataframe\">\n  <thead>\n    <tr style=\"text-align: right;\">\n      <th></th>\n      <th>City</th>\n      <th>Latitude</th>\n      <th>Longitude</th>\n      <th>Max Temperature</th>\n      <th>Humidity</th>\n      <th>Cloudiness</th>\n      <th>Wind Speed</th>\n      <th>Country</th>\n      <th>Date</th>\n    </tr>\n  </thead>\n  <tbody>\n    <tr>\n      <th>31</th>\n      <td>Cortez</td>\n      <td>37.3489</td>\n      <td>-108.5859</td>\n      <td>78.19</td>\n      <td>11</td>\n      <td>0</td>\n      <td>6.06</td>\n      <td>US</td>\n      <td>1623549345</td>\n    </tr>\n    <tr>\n      <th>211</th>\n      <td>Mashhad</td>\n      <td>36.2970</td>\n      <td>59.6062</td>\n      <td>75.34</td>\n      <td>43</td>\n      <td>0</td>\n      <td>4.61</td>\n      <td>IR</td>\n      <td>1623549656</td>\n    </tr>\n    <tr>\n      <th>333</th>\n      <td>Saint-Pierre</td>\n      <td>-21.3393</td>\n      <td>55.4781</td>\n      <td>71.24</td>\n      <td>73</td>\n      <td>0</td>\n      <td>6.91</td>\n      <td>RE</td>\n      <td>1623549885</td>\n    </tr>\n    <tr>\n      <th>451</th>\n      <td>Murgab</td>\n      <td>37.4966</td>\n      <td>61.9714</td>\n      <td>75.07</td>\n      <td>43</td>\n      <td>0</td>\n      <td>2.30</td>\n      <td>TM</td>\n      <td>1623550050</td>\n    </tr>\n    <tr>\n      <th>473</th>\n      <td>Qūchān</td>\n      <td>37.1060</td>\n      <td>58.5095</td>\n      <td>70.88</td>\n      <td>44</td>\n      <td>0</td>\n      <td>2.73</td>\n      <td>IR</td>\n      <td>1623550121</td>\n    </tr>\n    <tr>\n      <th>480</th>\n      <td>Zabul Province</td>\n      <td>32.2500</td>\n      <td>67.2500</td>\n      <td>72.63</td>\n      <td>18</td>\n      <td>0</td>\n      <td>6.93</td>\n      <td>AF</td>\n      <td>1623550123</td>\n    </tr>\n    <tr>\n      <th>508</th>\n      <td>San Juan</td>\n      <td>-31.5375</td>\n      <td>-68.5364</td>\n      <td>74.73</td>\n      <td>46</td>\n      <td>0</td>\n      <td>2.44</td>\n      <td>AR</td>\n      <td>1623550101</td>\n    </tr>\n  </tbody>\n</table>\n</div>"
     },
     "metadata": {},
     "execution_count": 31
    }
   ],
   "source": [
    "#Narrow down the cities to fit weather conditions.\n",
    "ideal_weather_df = city_weather_df.loc[(city_weather_df['Max Temperature'] > 70) & (city_weather_df['Max Temperature'] < 80) & (city_weather_df['Wind Speed'] < 10) & (city_weather_df['Cloudiness'] == 0),  :]\n",
    "\n",
    "ideal_weather_df"
   ]
  },
  {
   "cell_type": "markdown",
   "metadata": {},
   "source": [
    "### Hotel Map\n",
    "* Store into variable named `hotel_df`.\n",
    "* Add a \"Hotel Name\" column to the DataFrame.\n",
    "* Set parameters to search for hotels with 5000 meters.\n",
    "* Hit the Google Places API for each city's coordinates.\n",
    "* Store the first Hotel result into the DataFrame.\n",
    "* Plot markers on top of the heatmap."
   ]
  },
  {
   "cell_type": "code",
   "execution_count": null,
   "metadata": {},
   "outputs": [],
   "source": [
    "#Store into variable named hotel_df\n",
    "hotel_df = ideal_weather_df\n",
    "\n",
    "#Add a \"Hotel Name\" column to the DataFrame.\n",
    "hotel_df['Hotel Name'] = ''\n",
    "\n",
    "#Set parameters to search for hotels with 5000 meters.\n",
    "\n",
    "\n"
   ]
  },
  {
   "cell_type": "code",
   "execution_count": null,
   "metadata": {},
   "outputs": [],
   "source": []
  },
  {
   "cell_type": "code",
   "execution_count": null,
   "metadata": {},
   "outputs": [],
   "source": [
    "# NOTE: Do not change any of the code in this cell\n",
    "\n",
    "# Using the template add the hotel marks to the heatmap\n",
    "info_box_template = \"\"\"\n",
    "<dl>\n",
    "<dt>Name</dt><dd>{Hotel Name}</dd>\n",
    "<dt>City</dt><dd>{City}</dd>\n",
    "<dt>Country</dt><dd>{Country}</dd>\n",
    "</dl>\n",
    "\"\"\"\n",
    "# Store the DataFrame Row\n",
    "# NOTE: be sure to update with your DataFrame name\n",
    "hotel_info = [info_box_template.format(**row) for index, row in hotel_df.iterrows()]\n",
    "locations = hotel_df[[\"Lat\", \"Lng\"]]"
   ]
  },
  {
   "cell_type": "code",
   "execution_count": null,
   "metadata": {},
   "outputs": [],
   "source": [
    "# Add marker layer ontop of heat map\n",
    "\n",
    "\n",
    "# Display figure\n"
   ]
  },
  {
   "cell_type": "code",
   "execution_count": null,
   "metadata": {},
   "outputs": [],
   "source": []
  }
 ],
 "metadata": {
  "kernelspec": {
   "name": "python3",
   "display_name": "Python 3.6.10 64-bit ('PythonData': conda)"
  },
  "language_info": {
   "codemirror_mode": {
    "name": "ipython",
    "version": 3
   },
   "file_extension": ".py",
   "mimetype": "text/x-python",
   "name": "python",
   "nbconvert_exporter": "python",
   "pygments_lexer": "ipython3",
   "version": "3.6.10"
  },
  "latex_envs": {
   "LaTeX_envs_menu_present": true,
   "autoclose": false,
   "autocomplete": true,
   "bibliofile": "biblio.bib",
   "cite_by": "apalike",
   "current_citInitial": 1,
   "eqLabelWithNumbers": true,
   "eqNumInitial": 1,
   "hotkeys": {
    "equation": "Ctrl-E",
    "itemize": "Ctrl-I"
   },
   "labels_anchors": false,
   "latex_user_defs": false,
   "report_style_numbering": false,
   "user_envs_cfg": false
  },
  "interpreter": {
   "hash": "ed99c328fe6228cde88a5ea9dac3573c8a80070b6f57470153ed5be436ecc5ea"
  }
 },
 "nbformat": 4,
 "nbformat_minor": 4
}